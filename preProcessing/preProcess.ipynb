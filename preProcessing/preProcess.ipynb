{
 "cells": [
  {
   "cell_type": "markdown",
   "id": "7a43b955",
   "metadata": {},
   "source": [
    "Lets import the required libraries. "
   ]
  },
  {
   "cell_type": "code",
   "execution_count": 29,
   "id": "bf66f619",
   "metadata": {},
   "outputs": [],
   "source": [
    "import pandas as pd"
   ]
  },
  {
   "cell_type": "markdown",
   "id": "f7cbb234",
   "metadata": {},
   "source": [
    "Loading the \"data\" and \"labels\". \n",
    "\n",
    "Data Sources:\n",
    "\n",
    "Images: https://archive.ics.uci.edu/dataset/389/devanagari+handwritten+character+dataset\n",
    "\n",
    "The \"Data\" contains the each pixel values of all the images which were grayscaled. This is done beacuse we will feed these pixel values to a neural network and classify the combination of those pixels into devanagari alphabet. Since this project is not using CNN or libraries like pytorch, having all values in numerical form helps. This notebook deals with cleaning the data and adding correct labels to make it ready for the project.  "
   ]
  },
  {
   "cell_type": "code",
   "execution_count": 30,
   "id": "58d08933",
   "metadata": {},
   "outputs": [],
   "source": [
    "data = pd.read_csv('rawData/data.csv')\n",
    "labels = pd.read_csv('rawData/labels.csv')"
   ]
  },
  {
   "cell_type": "code",
   "execution_count": 31,
   "id": "ce7136b5",
   "metadata": {},
   "outputs": [
    {
     "data": {
      "text/html": [
       "<div>\n",
       "<style scoped>\n",
       "    .dataframe tbody tr th:only-of-type {\n",
       "        vertical-align: middle;\n",
       "    }\n",
       "\n",
       "    .dataframe tbody tr th {\n",
       "        vertical-align: top;\n",
       "    }\n",
       "\n",
       "    .dataframe thead th {\n",
       "        text-align: right;\n",
       "    }\n",
       "</style>\n",
       "<table border=\"1\" class=\"dataframe\">\n",
       "  <thead>\n",
       "    <tr style=\"text-align: right;\">\n",
       "      <th></th>\n",
       "      <th>pixel_0000</th>\n",
       "      <th>pixel_0001</th>\n",
       "      <th>pixel_0002</th>\n",
       "      <th>pixel_0003</th>\n",
       "      <th>pixel_0004</th>\n",
       "      <th>pixel_0005</th>\n",
       "      <th>pixel_0006</th>\n",
       "      <th>pixel_0007</th>\n",
       "      <th>pixel_0008</th>\n",
       "      <th>pixel_0009</th>\n",
       "      <th>...</th>\n",
       "      <th>pixel_1015</th>\n",
       "      <th>pixel_1016</th>\n",
       "      <th>pixel_1017</th>\n",
       "      <th>pixel_1018</th>\n",
       "      <th>pixel_1019</th>\n",
       "      <th>pixel_1020</th>\n",
       "      <th>pixel_1021</th>\n",
       "      <th>pixel_1022</th>\n",
       "      <th>pixel_1023</th>\n",
       "      <th>character</th>\n",
       "    </tr>\n",
       "  </thead>\n",
       "  <tbody>\n",
       "    <tr>\n",
       "      <th>0</th>\n",
       "      <td>0</td>\n",
       "      <td>0</td>\n",
       "      <td>0</td>\n",
       "      <td>0</td>\n",
       "      <td>0</td>\n",
       "      <td>0</td>\n",
       "      <td>0</td>\n",
       "      <td>0</td>\n",
       "      <td>0</td>\n",
       "      <td>0</td>\n",
       "      <td>...</td>\n",
       "      <td>0</td>\n",
       "      <td>0</td>\n",
       "      <td>0</td>\n",
       "      <td>0</td>\n",
       "      <td>0</td>\n",
       "      <td>0</td>\n",
       "      <td>0</td>\n",
       "      <td>0</td>\n",
       "      <td>0</td>\n",
       "      <td>character_01_ka</td>\n",
       "    </tr>\n",
       "    <tr>\n",
       "      <th>1</th>\n",
       "      <td>0</td>\n",
       "      <td>0</td>\n",
       "      <td>0</td>\n",
       "      <td>0</td>\n",
       "      <td>0</td>\n",
       "      <td>0</td>\n",
       "      <td>0</td>\n",
       "      <td>0</td>\n",
       "      <td>0</td>\n",
       "      <td>0</td>\n",
       "      <td>...</td>\n",
       "      <td>0</td>\n",
       "      <td>0</td>\n",
       "      <td>0</td>\n",
       "      <td>0</td>\n",
       "      <td>0</td>\n",
       "      <td>0</td>\n",
       "      <td>0</td>\n",
       "      <td>0</td>\n",
       "      <td>0</td>\n",
       "      <td>character_01_ka</td>\n",
       "    </tr>\n",
       "    <tr>\n",
       "      <th>2</th>\n",
       "      <td>0</td>\n",
       "      <td>0</td>\n",
       "      <td>0</td>\n",
       "      <td>0</td>\n",
       "      <td>0</td>\n",
       "      <td>0</td>\n",
       "      <td>0</td>\n",
       "      <td>0</td>\n",
       "      <td>0</td>\n",
       "      <td>0</td>\n",
       "      <td>...</td>\n",
       "      <td>0</td>\n",
       "      <td>0</td>\n",
       "      <td>0</td>\n",
       "      <td>0</td>\n",
       "      <td>0</td>\n",
       "      <td>0</td>\n",
       "      <td>0</td>\n",
       "      <td>0</td>\n",
       "      <td>0</td>\n",
       "      <td>character_01_ka</td>\n",
       "    </tr>\n",
       "    <tr>\n",
       "      <th>3</th>\n",
       "      <td>0</td>\n",
       "      <td>0</td>\n",
       "      <td>0</td>\n",
       "      <td>0</td>\n",
       "      <td>0</td>\n",
       "      <td>0</td>\n",
       "      <td>0</td>\n",
       "      <td>0</td>\n",
       "      <td>0</td>\n",
       "      <td>0</td>\n",
       "      <td>...</td>\n",
       "      <td>0</td>\n",
       "      <td>0</td>\n",
       "      <td>0</td>\n",
       "      <td>0</td>\n",
       "      <td>0</td>\n",
       "      <td>0</td>\n",
       "      <td>0</td>\n",
       "      <td>0</td>\n",
       "      <td>0</td>\n",
       "      <td>character_01_ka</td>\n",
       "    </tr>\n",
       "    <tr>\n",
       "      <th>4</th>\n",
       "      <td>0</td>\n",
       "      <td>0</td>\n",
       "      <td>0</td>\n",
       "      <td>0</td>\n",
       "      <td>0</td>\n",
       "      <td>0</td>\n",
       "      <td>0</td>\n",
       "      <td>0</td>\n",
       "      <td>0</td>\n",
       "      <td>0</td>\n",
       "      <td>...</td>\n",
       "      <td>0</td>\n",
       "      <td>0</td>\n",
       "      <td>0</td>\n",
       "      <td>0</td>\n",
       "      <td>0</td>\n",
       "      <td>0</td>\n",
       "      <td>0</td>\n",
       "      <td>0</td>\n",
       "      <td>0</td>\n",
       "      <td>character_01_ka</td>\n",
       "    </tr>\n",
       "  </tbody>\n",
       "</table>\n",
       "<p>5 rows × 1025 columns</p>\n",
       "</div>"
      ],
      "text/plain": [
       "   pixel_0000  pixel_0001  pixel_0002  pixel_0003  pixel_0004  pixel_0005  \\\n",
       "0           0           0           0           0           0           0   \n",
       "1           0           0           0           0           0           0   \n",
       "2           0           0           0           0           0           0   \n",
       "3           0           0           0           0           0           0   \n",
       "4           0           0           0           0           0           0   \n",
       "\n",
       "   pixel_0006  pixel_0007  pixel_0008  pixel_0009  ...  pixel_1015  \\\n",
       "0           0           0           0           0  ...           0   \n",
       "1           0           0           0           0  ...           0   \n",
       "2           0           0           0           0  ...           0   \n",
       "3           0           0           0           0  ...           0   \n",
       "4           0           0           0           0  ...           0   \n",
       "\n",
       "   pixel_1016  pixel_1017  pixel_1018  pixel_1019  pixel_1020  pixel_1021  \\\n",
       "0           0           0           0           0           0           0   \n",
       "1           0           0           0           0           0           0   \n",
       "2           0           0           0           0           0           0   \n",
       "3           0           0           0           0           0           0   \n",
       "4           0           0           0           0           0           0   \n",
       "\n",
       "   pixel_1022  pixel_1023        character  \n",
       "0           0           0  character_01_ka  \n",
       "1           0           0  character_01_ka  \n",
       "2           0           0  character_01_ka  \n",
       "3           0           0  character_01_ka  \n",
       "4           0           0  character_01_ka  \n",
       "\n",
       "[5 rows x 1025 columns]"
      ]
     },
     "execution_count": 31,
     "metadata": {},
     "output_type": "execute_result"
    }
   ],
   "source": [
    "data.head()"
   ]
  },
  {
   "cell_type": "code",
   "execution_count": 32,
   "id": "d27f9059",
   "metadata": {},
   "outputs": [
    {
     "data": {
      "text/html": [
       "<div>\n",
       "<style scoped>\n",
       "    .dataframe tbody tr th:only-of-type {\n",
       "        vertical-align: middle;\n",
       "    }\n",
       "\n",
       "    .dataframe tbody tr th {\n",
       "        vertical-align: top;\n",
       "    }\n",
       "\n",
       "    .dataframe thead th {\n",
       "        text-align: right;\n",
       "    }\n",
       "</style>\n",
       "<table border=\"1\" class=\"dataframe\">\n",
       "  <thead>\n",
       "    <tr style=\"text-align: right;\">\n",
       "      <th></th>\n",
       "      <th>Numerals</th>\n",
       "      <th>Unnamed: 1</th>\n",
       "      <th>Unnamed: 2</th>\n",
       "      <th>Unnamed: 3</th>\n",
       "    </tr>\n",
       "  </thead>\n",
       "  <tbody>\n",
       "    <tr>\n",
       "      <th>0</th>\n",
       "      <td>NaN</td>\n",
       "      <td>NaN</td>\n",
       "      <td>NaN</td>\n",
       "      <td>NaN</td>\n",
       "    </tr>\n",
       "    <tr>\n",
       "      <th>1</th>\n",
       "      <td>Class</td>\n",
       "      <td>Label</td>\n",
       "      <td>Devanagari Label</td>\n",
       "      <td>Phonetics</td>\n",
       "    </tr>\n",
       "    <tr>\n",
       "      <th>2</th>\n",
       "      <td>0</td>\n",
       "      <td>0</td>\n",
       "      <td>०</td>\n",
       "      <td>Śūn'ya</td>\n",
       "    </tr>\n",
       "    <tr>\n",
       "      <th>3</th>\n",
       "      <td>1</td>\n",
       "      <td>1</td>\n",
       "      <td>१</td>\n",
       "      <td>ēka</td>\n",
       "    </tr>\n",
       "    <tr>\n",
       "      <th>4</th>\n",
       "      <td>2</td>\n",
       "      <td>2</td>\n",
       "      <td>२</td>\n",
       "      <td>du'ī</td>\n",
       "    </tr>\n",
       "    <tr>\n",
       "      <th>5</th>\n",
       "      <td>3</td>\n",
       "      <td>3</td>\n",
       "      <td>३</td>\n",
       "      <td>tīna</td>\n",
       "    </tr>\n",
       "    <tr>\n",
       "      <th>6</th>\n",
       "      <td>4</td>\n",
       "      <td>4</td>\n",
       "      <td>४</td>\n",
       "      <td>cāra</td>\n",
       "    </tr>\n",
       "    <tr>\n",
       "      <th>7</th>\n",
       "      <td>5</td>\n",
       "      <td>5</td>\n",
       "      <td>५</td>\n",
       "      <td>pām̐ca</td>\n",
       "    </tr>\n",
       "    <tr>\n",
       "      <th>8</th>\n",
       "      <td>6</td>\n",
       "      <td>6</td>\n",
       "      <td>६</td>\n",
       "      <td>cha</td>\n",
       "    </tr>\n",
       "    <tr>\n",
       "      <th>9</th>\n",
       "      <td>7</td>\n",
       "      <td>7</td>\n",
       "      <td>७</td>\n",
       "      <td>sāta</td>\n",
       "    </tr>\n",
       "    <tr>\n",
       "      <th>10</th>\n",
       "      <td>8</td>\n",
       "      <td>8</td>\n",
       "      <td>८</td>\n",
       "      <td>āṭha</td>\n",
       "    </tr>\n",
       "    <tr>\n",
       "      <th>11</th>\n",
       "      <td>9</td>\n",
       "      <td>9</td>\n",
       "      <td>९</td>\n",
       "      <td>nau</td>\n",
       "    </tr>\n",
       "    <tr>\n",
       "      <th>12</th>\n",
       "      <td>NaN</td>\n",
       "      <td>NaN</td>\n",
       "      <td>NaN</td>\n",
       "      <td>NaN</td>\n",
       "    </tr>\n",
       "    <tr>\n",
       "      <th>13</th>\n",
       "      <td>NaN</td>\n",
       "      <td>NaN</td>\n",
       "      <td>NaN</td>\n",
       "      <td>NaN</td>\n",
       "    </tr>\n",
       "    <tr>\n",
       "      <th>14</th>\n",
       "      <td>Vowels</td>\n",
       "      <td>NaN</td>\n",
       "      <td>NaN</td>\n",
       "      <td>NaN</td>\n",
       "    </tr>\n",
       "    <tr>\n",
       "      <th>15</th>\n",
       "      <td>NaN</td>\n",
       "      <td>NaN</td>\n",
       "      <td>NaN</td>\n",
       "      <td>NaN</td>\n",
       "    </tr>\n",
       "    <tr>\n",
       "      <th>16</th>\n",
       "      <td>Class</td>\n",
       "      <td>Label</td>\n",
       "      <td>Devanagari Label</td>\n",
       "      <td>Phonetics</td>\n",
       "    </tr>\n",
       "    <tr>\n",
       "      <th>17</th>\n",
       "      <td>1</td>\n",
       "      <td>a</td>\n",
       "      <td>अ</td>\n",
       "      <td>a</td>\n",
       "    </tr>\n",
       "    <tr>\n",
       "      <th>18</th>\n",
       "      <td>2</td>\n",
       "      <td>aa</td>\n",
       "      <td>आ</td>\n",
       "      <td>ā</td>\n",
       "    </tr>\n",
       "    <tr>\n",
       "      <th>19</th>\n",
       "      <td>3</td>\n",
       "      <td>i</td>\n",
       "      <td>इ</td>\n",
       "      <td>i</td>\n",
       "    </tr>\n",
       "  </tbody>\n",
       "</table>\n",
       "</div>"
      ],
      "text/plain": [
       "   Numerals Unnamed: 1        Unnamed: 2 Unnamed: 3\n",
       "0       NaN        NaN               NaN        NaN\n",
       "1     Class      Label  Devanagari Label  Phonetics\n",
       "2         0          0                 ०     Śūn'ya\n",
       "3         1          1                 १        ēka\n",
       "4         2          2                 २       du'ī\n",
       "5         3          3                 ३       tīna\n",
       "6         4          4                 ४       cāra\n",
       "7         5          5                 ५     pām̐ca\n",
       "8         6          6                 ६        cha\n",
       "9         7          7                 ७       sāta\n",
       "10        8          8                 ८       āṭha\n",
       "11        9          9                 ९        nau\n",
       "12      NaN        NaN               NaN        NaN\n",
       "13      NaN        NaN               NaN        NaN\n",
       "14   Vowels        NaN               NaN        NaN\n",
       "15      NaN        NaN               NaN        NaN\n",
       "16    Class      Label  Devanagari Label  Phonetics\n",
       "17        1          a                 अ          a\n",
       "18        2         aa                 आ          ā\n",
       "19        3          i                 इ          i"
      ]
     },
     "execution_count": 32,
     "metadata": {},
     "output_type": "execute_result"
    }
   ],
   "source": [
    "labels.head(20)"
   ]
  },
  {
   "cell_type": "markdown",
   "id": "d3586459",
   "metadata": {},
   "source": [
    "It is always safe to do all preprocessing on the copy of original data. Let's make an independent copy. "
   ]
  },
  {
   "cell_type": "code",
   "execution_count": 33,
   "id": "307fe71b",
   "metadata": {},
   "outputs": [],
   "source": [
    "dataCopy = data.copy()\n",
    "labelsCopy = labels.copy()"
   ]
  },
  {
   "cell_type": "markdown",
   "id": "e429cc0d",
   "metadata": {},
   "source": [
    "Now we check for NULL values. We can either remove them altogether or we can add any new value in place of them. "
   ]
  },
  {
   "cell_type": "code",
   "execution_count": 34,
   "id": "a1a6f851",
   "metadata": {},
   "outputs": [
    {
     "data": {
      "text/plain": [
       "Numerals      7\n",
       "Unnamed: 1    9\n",
       "Unnamed: 2    9\n",
       "Unnamed: 3    9\n",
       "dtype: int64"
      ]
     },
     "execution_count": 34,
     "metadata": {},
     "output_type": "execute_result"
    }
   ],
   "source": [
    "labelsCopy.isnull().sum()   # Check for missing values in labels"
   ]
  },
  {
   "cell_type": "markdown",
   "id": "c87ad758",
   "metadata": {},
   "source": [
    "Since the NULL value in \"labelsCopy\" can be safely removed, we are going to drop those rows. "
   ]
  },
  {
   "cell_type": "code",
   "execution_count": 35,
   "id": "12e4792d",
   "metadata": {},
   "outputs": [],
   "source": [
    "labelsCopy = labelsCopy.dropna()    # Drop missing values from labels"
   ]
  },
  {
   "cell_type": "markdown",
   "id": "c4c2252d",
   "metadata": {},
   "source": [
    "We won't need the \"Numerals\" column because it doesnot add much value. Then we will rename the column according to its features which can be seen in 1st row. Then we will drop the duplicate rows. "
   ]
  },
  {
   "cell_type": "code",
   "execution_count": 36,
   "id": "427d97ad",
   "metadata": {},
   "outputs": [],
   "source": [
    "labelsCopy = labelsCopy.drop(columns=\"Numerals\")    # Drop the 'Numerals' column from labels"
   ]
  },
  {
   "cell_type": "code",
   "execution_count": 37,
   "id": "4141d46b",
   "metadata": {},
   "outputs": [],
   "source": [
    "labelsCopy.columns = labelsCopy.iloc[0] # Set the first row as header"
   ]
  },
  {
   "cell_type": "code",
   "execution_count": 38,
   "id": "ee369216",
   "metadata": {},
   "outputs": [],
   "source": [
    "labelsCopy = labelsCopy.drop_duplicates()   # Remove duplicate rows\n",
    "labelsCopy = labelsCopy.drop(labelsCopy.index[0])   # Remove the first row\n",
    "labelsCopy = labelsCopy.reset_index(drop=True)   # Reset index"
   ]
  },
  {
   "cell_type": "code",
   "execution_count": 39,
   "id": "773fd622",
   "metadata": {},
   "outputs": [
    {
     "name": "stdout",
     "output_type": "stream",
     "text": [
      "Total unique labels: ['0' '1' '2' '3' '4' '5' '6' '7' '8' '9' 'a' 'aa' 'i' 'ee' 'u' 'oo' 'ae'\n",
      " 'ai' 'o' 'au' 'an' 'ah' 'ka' 'kha' 'ga' 'gha' 'kna' 'cha' 'chha' 'ja'\n",
      " 'jha' 'yna' 'ta' 'tha' 'da' 'dha' 'ana' 'taa' 'thaa' 'daa' 'dhaa' 'na'\n",
      " 'pa' 'pha' 'ba' 'ma' 'ya' 'ra' 'la' 'va' 'motosaw' 'petchiryosaw'\n",
      " 'patalosaw' 'ha' 'ksha' 'tra' 'gya']\n"
     ]
    }
   ],
   "source": [
    "uniqueLabels = labelsCopy['Label'].unique()  # Get all the labels which are unique\n",
    "print(f\"Total unique labels: {uniqueLabels}\")"
   ]
  },
  {
   "cell_type": "markdown",
   "id": "492e910d",
   "metadata": {},
   "source": [
    "We are checking all the labels because we have to include these additional labels in the dataset which will give it more value. Currently it only consist of labels in english. One way to do it is matching the english labels in both datasets and adding devanagari labels corresponding to it. "
   ]
  },
  {
   "cell_type": "code",
   "execution_count": 40,
   "id": "f7d342cb",
   "metadata": {},
   "outputs": [
    {
     "name": "stdout",
     "output_type": "stream",
     "text": [
      "['ka' 'kha' 'ga' 'gha' 'kna' 'cha' 'chha' 'ja' 'jha' 'yna' 'ta' 'tha' 'da'\n",
      " 'dha' 'ana' 'taa' 'thaa' 'daa' 'dhaa' 'na' 'pa' 'pha' 'ba' 'ma' 'ya' 'ra'\n",
      " 'la' 'va' 'motosaw' 'petchiryosaw' 'patalosaw' 'ha' 'ksha' 'tra' 'gya']\n",
      "35\n"
     ]
    }
   ],
   "source": [
    "uniqueLabelsConsonants = uniqueLabels[22:]      # Only take Devanagari consonant alphabets\n",
    "print(uniqueLabelsConsonants)\n",
    "print(len(uniqueLabelsConsonants))"
   ]
  },
  {
   "cell_type": "markdown",
   "id": "143cbe79",
   "metadata": {},
   "source": [
    "Since we are talking about devanagari alphabets, there should be 36 unique in total. But we only get 35 and one is missing. "
   ]
  },
  {
   "cell_type": "code",
   "execution_count": 41,
   "id": "0772fdaa",
   "metadata": {},
   "outputs": [
    {
     "name": "stdout",
     "output_type": "stream",
     "text": [
      "1          Label Devanagari Label Phonetics\n",
      "22            ka                क        ka\n",
      "23           kha                ख       kha\n",
      "24            ga                ग        ga\n",
      "25           gha                घ       gha\n",
      "26           kna                ङ        ṅa\n",
      "27           cha                च        ca\n",
      "28          chha                छ       cha\n",
      "29            ja                ज        ja\n",
      "30           jha                झ       jha\n",
      "31           yna                ञ        ña\n",
      "32            ta                ट        ṭa\n",
      "33           tha                ठ       ṭha\n",
      "34            da                ड        ḍa\n",
      "35           dha                ढ       ḍha\n",
      "36           ana                ण        ṇa\n",
      "37           taa                त        ta\n",
      "38          thaa                थ       tha\n",
      "39           daa                द        da\n",
      "40          dhaa                ध       dha\n",
      "41            na                न        na\n",
      "42            pa                प        pa\n",
      "43           pha                फ       pha\n",
      "44            ba                ब        ba\n",
      "45           dha                भ       bha\n",
      "46            ma                म        ma\n",
      "47            ya                य        ya\n",
      "48            ra                र        ra\n",
      "49            la                ल        la\n",
      "50            va                व        va\n",
      "51       motosaw                श        śa\n",
      "52  petchiryosaw                ष        ṣa\n",
      "53     patalosaw                स        sa\n",
      "54            ha                ह        ha\n",
      "55          ksha              क्ष       kṣa\n",
      "56           tra              त्र       tra\n",
      "57           gya              ज्ञ       jña\n"
     ]
    }
   ],
   "source": [
    "print(labelsCopy[22:])"
   ]
  },
  {
   "cell_type": "markdown",
   "id": "99fb3ada",
   "metadata": {},
   "source": [
    "Upon further inscpection, we see that the alphabet \"bha\" has been misrepresented in the \"Label\" column. So, we fix that. "
   ]
  },
  {
   "cell_type": "code",
   "execution_count": 42,
   "id": "2aa77fa9",
   "metadata": {},
   "outputs": [
    {
     "name": "stdout",
     "output_type": "stream",
     "text": [
      "['ka' 'kha' 'ga' 'gha' 'kna' 'cha' 'chha' 'ja' 'jha' 'yna' 'ta' 'tha' 'da'\n",
      " 'dha' 'ana' 'taa' 'thaa' 'daa' 'dhaa' 'na' 'pa' 'pha' 'ba' 'bha' 'ma'\n",
      " 'ya' 'ra' 'la' 'va' 'motosaw' 'petchiryosaw' 'patalosaw' 'ha' 'ksha'\n",
      " 'tra' 'gya']\n"
     ]
    }
   ],
   "source": [
    "labelsCopy.loc[45, \"Label\"] = \"bha\"     # Update label for index 45\n",
    "uniqueLabels = labelsCopy['Label'].unique()\n",
    "uniqueLabelsConsonants = uniqueLabels[22:]\n",
    "print(uniqueLabelsConsonants)"
   ]
  },
  {
   "cell_type": "markdown",
   "id": "feb5a6ff",
   "metadata": {},
   "source": [
    "The dataset finally looks in good place. "
   ]
  },
  {
   "cell_type": "markdown",
   "id": "b60a3686",
   "metadata": {},
   "source": [
    "In the \"character\" column in the \"data_copy\" , we need to remove the string before the actual label so that we can add new devanagari labels from \"labels_copy\" matching the previous labels in \"data_copy\"."
   ]
  },
  {
   "cell_type": "code",
   "execution_count": 43,
   "id": "8df425fc",
   "metadata": {},
   "outputs": [],
   "source": [
    "dataCopy['character'] = dataCopy['character'].str.split('_').str[-1]    # Keep only the last part after '_'"
   ]
  },
  {
   "cell_type": "code",
   "execution_count": 44,
   "id": "6a7c2d61",
   "metadata": {},
   "outputs": [
    {
     "name": "stdout",
     "output_type": "stream",
     "text": [
      "['ka' 'kha' 'ga' 'gha' 'kna' 'cha' 'chha' 'ja' 'jha' 'yna' 'taamatar'\n",
      " 'thaa' 'daa' 'dhaa' 'adna' 'tabala' 'tha' 'da' 'dha' 'na' 'pa' 'pha' 'ba'\n",
      " 'bha' 'ma' 'yaw' 'ra' 'la' 'waw' 'motosaw' 'petchiryakha' 'patalosaw'\n",
      " 'ha' 'chhya' 'tra' 'gya']\n"
     ]
    }
   ],
   "source": [
    "uniqueLabels = dataCopy['character'].unique()\n",
    "print(uniqueLabels[:36])"
   ]
  },
  {
   "cell_type": "markdown",
   "id": "a307dd43",
   "metadata": {},
   "source": [
    "We can see that devangari consonants are of same number and same order, now we replace the \"data_copy\" labels with labels of \"labels_copy\". This is done to match the old labels and add new labels. We do that first by creating a dictionary of key value pairs and replace them. "
   ]
  },
  {
   "cell_type": "code",
   "execution_count": 45,
   "id": "31220d26",
   "metadata": {},
   "outputs": [
    {
     "name": "stdout",
     "output_type": "stream",
     "text": [
      "{'ka': 'ka', 'kha': 'kha', 'ga': 'ga', 'gha': 'gha', 'kna': 'kna', 'cha': 'cha', 'chha': 'chha', 'ja': 'ja', 'jha': 'jha', 'yna': 'yna', 'taamatar': 'ta', 'thaa': 'tha', 'daa': 'da', 'dhaa': 'dha', 'adna': 'ana', 'tabala': 'taa', 'tha': 'thaa', 'da': 'daa', 'dha': 'dhaa', 'na': 'na', 'pa': 'pa', 'pha': 'pha', 'ba': 'ba', 'bha': 'bha', 'ma': 'ma', 'yaw': 'ya', 'ra': 'ra', 'la': 'la', 'waw': 'va', 'motosaw': 'motosaw', 'petchiryakha': 'petchiryosaw', 'patalosaw': 'patalosaw', 'ha': 'ha', 'chhya': 'ksha', 'tra': 'tra', 'gya': 'gya'}\n"
     ]
    }
   ],
   "source": [
    "labelDict = {key:value for key, value in zip(uniqueLabels[:36], uniqueLabelsConsonants)}    # Map labels from \"labelsCopy\" to labels from \"dataCopy\"\n",
    "print(labelDict)"
   ]
  },
  {
   "cell_type": "markdown",
   "id": "e0d938e9",
   "metadata": {},
   "source": [
    "Now we replace old labels with new labels. "
   ]
  },
  {
   "cell_type": "code",
   "execution_count": 46,
   "id": "a9edfa91",
   "metadata": {},
   "outputs": [],
   "source": [
    "dataCopy[\"character\"] = dataCopy[\"character\"].replace(labelDict)    # Replace labels in \"dataCopy\" using the mapping dictionary"
   ]
  },
  {
   "cell_type": "code",
   "execution_count": 47,
   "id": "3da62852",
   "metadata": {},
   "outputs": [
    {
     "name": "stdout",
     "output_type": "stream",
     "text": [
      "['ka' 'kha' 'ga' 'gha' 'kna' 'cha' 'chha' 'ja' 'jha' 'yna' 'ta' 'tha' 'da'\n",
      " 'dha' 'ana' 'taa' 'thaa' 'daa' 'dhaa' 'na' 'pa' 'pha' 'ba' 'bha' 'ma'\n",
      " 'ya' 'ra' 'la' 'va' 'motosaw' 'petchiryosaw' 'patalosaw' 'ha' 'ksha'\n",
      " 'tra' 'gya' '0' '1' '2' '3' '4' '5' '6' '7' '8' '9']\n"
     ]
    }
   ],
   "source": [
    "print(dataCopy[\"character\"].unique())"
   ]
  },
  {
   "cell_type": "markdown",
   "id": "91b2c48d",
   "metadata": {},
   "source": [
    "Renaming the merging columns to same name makes it easier. "
   ]
  },
  {
   "cell_type": "code",
   "execution_count": 48,
   "id": "16f8f8f3",
   "metadata": {},
   "outputs": [],
   "source": [
    "dataCopy.rename(columns={\"character\": \"Label\"}, inplace=True)   # Rename the 'character' column to 'Label'"
   ]
  },
  {
   "cell_type": "markdown",
   "id": "57eb81bf",
   "metadata": {},
   "source": [
    "We left join the tables where left table is the \"data_copy\" table. It means that matching labels will be joined and if there are any rows where there are no matching labels, it will be set to NULL. "
   ]
  },
  {
   "cell_type": "code",
   "execution_count": 49,
   "id": "d9eedd1c",
   "metadata": {},
   "outputs": [
    {
     "data": {
      "text/html": [
       "<div>\n",
       "<style scoped>\n",
       "    .dataframe tbody tr th:only-of-type {\n",
       "        vertical-align: middle;\n",
       "    }\n",
       "\n",
       "    .dataframe tbody tr th {\n",
       "        vertical-align: top;\n",
       "    }\n",
       "\n",
       "    .dataframe thead th {\n",
       "        text-align: right;\n",
       "    }\n",
       "</style>\n",
       "<table border=\"1\" class=\"dataframe\">\n",
       "  <thead>\n",
       "    <tr style=\"text-align: right;\">\n",
       "      <th></th>\n",
       "      <th>pixel_0000</th>\n",
       "      <th>pixel_0001</th>\n",
       "      <th>pixel_0002</th>\n",
       "      <th>pixel_0003</th>\n",
       "      <th>pixel_0004</th>\n",
       "      <th>pixel_0005</th>\n",
       "      <th>pixel_0006</th>\n",
       "      <th>pixel_0007</th>\n",
       "      <th>pixel_0008</th>\n",
       "      <th>pixel_0009</th>\n",
       "      <th>...</th>\n",
       "      <th>pixel_1017</th>\n",
       "      <th>pixel_1018</th>\n",
       "      <th>pixel_1019</th>\n",
       "      <th>pixel_1020</th>\n",
       "      <th>pixel_1021</th>\n",
       "      <th>pixel_1022</th>\n",
       "      <th>pixel_1023</th>\n",
       "      <th>Label</th>\n",
       "      <th>Devanagari Label</th>\n",
       "      <th>Phonetics</th>\n",
       "    </tr>\n",
       "  </thead>\n",
       "  <tbody>\n",
       "    <tr>\n",
       "      <th>0</th>\n",
       "      <td>0</td>\n",
       "      <td>0</td>\n",
       "      <td>0</td>\n",
       "      <td>0</td>\n",
       "      <td>0</td>\n",
       "      <td>0</td>\n",
       "      <td>0</td>\n",
       "      <td>0</td>\n",
       "      <td>0</td>\n",
       "      <td>0</td>\n",
       "      <td>...</td>\n",
       "      <td>0</td>\n",
       "      <td>0</td>\n",
       "      <td>0</td>\n",
       "      <td>0</td>\n",
       "      <td>0</td>\n",
       "      <td>0</td>\n",
       "      <td>0</td>\n",
       "      <td>ka</td>\n",
       "      <td>क</td>\n",
       "      <td>ka</td>\n",
       "    </tr>\n",
       "    <tr>\n",
       "      <th>1</th>\n",
       "      <td>0</td>\n",
       "      <td>0</td>\n",
       "      <td>0</td>\n",
       "      <td>0</td>\n",
       "      <td>0</td>\n",
       "      <td>0</td>\n",
       "      <td>0</td>\n",
       "      <td>0</td>\n",
       "      <td>0</td>\n",
       "      <td>0</td>\n",
       "      <td>...</td>\n",
       "      <td>0</td>\n",
       "      <td>0</td>\n",
       "      <td>0</td>\n",
       "      <td>0</td>\n",
       "      <td>0</td>\n",
       "      <td>0</td>\n",
       "      <td>0</td>\n",
       "      <td>ka</td>\n",
       "      <td>क</td>\n",
       "      <td>ka</td>\n",
       "    </tr>\n",
       "    <tr>\n",
       "      <th>2</th>\n",
       "      <td>0</td>\n",
       "      <td>0</td>\n",
       "      <td>0</td>\n",
       "      <td>0</td>\n",
       "      <td>0</td>\n",
       "      <td>0</td>\n",
       "      <td>0</td>\n",
       "      <td>0</td>\n",
       "      <td>0</td>\n",
       "      <td>0</td>\n",
       "      <td>...</td>\n",
       "      <td>0</td>\n",
       "      <td>0</td>\n",
       "      <td>0</td>\n",
       "      <td>0</td>\n",
       "      <td>0</td>\n",
       "      <td>0</td>\n",
       "      <td>0</td>\n",
       "      <td>ka</td>\n",
       "      <td>क</td>\n",
       "      <td>ka</td>\n",
       "    </tr>\n",
       "    <tr>\n",
       "      <th>3</th>\n",
       "      <td>0</td>\n",
       "      <td>0</td>\n",
       "      <td>0</td>\n",
       "      <td>0</td>\n",
       "      <td>0</td>\n",
       "      <td>0</td>\n",
       "      <td>0</td>\n",
       "      <td>0</td>\n",
       "      <td>0</td>\n",
       "      <td>0</td>\n",
       "      <td>...</td>\n",
       "      <td>0</td>\n",
       "      <td>0</td>\n",
       "      <td>0</td>\n",
       "      <td>0</td>\n",
       "      <td>0</td>\n",
       "      <td>0</td>\n",
       "      <td>0</td>\n",
       "      <td>ka</td>\n",
       "      <td>क</td>\n",
       "      <td>ka</td>\n",
       "    </tr>\n",
       "    <tr>\n",
       "      <th>4</th>\n",
       "      <td>0</td>\n",
       "      <td>0</td>\n",
       "      <td>0</td>\n",
       "      <td>0</td>\n",
       "      <td>0</td>\n",
       "      <td>0</td>\n",
       "      <td>0</td>\n",
       "      <td>0</td>\n",
       "      <td>0</td>\n",
       "      <td>0</td>\n",
       "      <td>...</td>\n",
       "      <td>0</td>\n",
       "      <td>0</td>\n",
       "      <td>0</td>\n",
       "      <td>0</td>\n",
       "      <td>0</td>\n",
       "      <td>0</td>\n",
       "      <td>0</td>\n",
       "      <td>ka</td>\n",
       "      <td>क</td>\n",
       "      <td>ka</td>\n",
       "    </tr>\n",
       "  </tbody>\n",
       "</table>\n",
       "<p>5 rows × 1027 columns</p>\n",
       "</div>"
      ],
      "text/plain": [
       "   pixel_0000  pixel_0001  pixel_0002  pixel_0003  pixel_0004  pixel_0005  \\\n",
       "0           0           0           0           0           0           0   \n",
       "1           0           0           0           0           0           0   \n",
       "2           0           0           0           0           0           0   \n",
       "3           0           0           0           0           0           0   \n",
       "4           0           0           0           0           0           0   \n",
       "\n",
       "   pixel_0006  pixel_0007  pixel_0008  pixel_0009  ...  pixel_1017  \\\n",
       "0           0           0           0           0  ...           0   \n",
       "1           0           0           0           0  ...           0   \n",
       "2           0           0           0           0  ...           0   \n",
       "3           0           0           0           0  ...           0   \n",
       "4           0           0           0           0  ...           0   \n",
       "\n",
       "   pixel_1018  pixel_1019  pixel_1020  pixel_1021  pixel_1022  pixel_1023  \\\n",
       "0           0           0           0           0           0           0   \n",
       "1           0           0           0           0           0           0   \n",
       "2           0           0           0           0           0           0   \n",
       "3           0           0           0           0           0           0   \n",
       "4           0           0           0           0           0           0   \n",
       "\n",
       "   Label  Devanagari Label  Phonetics  \n",
       "0     ka                 क         ka  \n",
       "1     ka                 क         ka  \n",
       "2     ka                 क         ka  \n",
       "3     ka                 क         ka  \n",
       "4     ka                 क         ka  \n",
       "\n",
       "[5 rows x 1027 columns]"
      ]
     },
     "execution_count": 49,
     "metadata": {},
     "output_type": "execute_result"
    }
   ],
   "source": [
    "dataCopy = dataCopy.merge(labelsCopy, on='Label', how='left')   #Merging two dataframes left joining the \"Label\" column\n",
    "dataCopy.head()"
   ]
  },
  {
   "cell_type": "code",
   "execution_count": 50,
   "id": "0053b150",
   "metadata": {},
   "outputs": [
    {
     "data": {
      "text/plain": [
       "pixel_0000          0\n",
       "pixel_0001          0\n",
       "pixel_0002          0\n",
       "pixel_0003          0\n",
       "pixel_0004          0\n",
       "                   ..\n",
       "pixel_1022          0\n",
       "pixel_1023          0\n",
       "Label               0\n",
       "Devanagari Label    0\n",
       "Phonetics           0\n",
       "Length: 1027, dtype: int64"
      ]
     },
     "execution_count": 50,
     "metadata": {},
     "output_type": "execute_result"
    }
   ],
   "source": [
    "dataCopy.isna().sum()   # Check for missing values in \"dataCopy\""
   ]
  },
  {
   "cell_type": "markdown",
   "id": "ef5a5187",
   "metadata": {},
   "source": [
    "Finally, the data is cleaned with no NULL and correct labels. "
   ]
  },
  {
   "cell_type": "code",
   "execution_count": 51,
   "id": "042b3cdc",
   "metadata": {},
   "outputs": [
    {
     "data": {
      "text/plain": [
       "array(['क', 'ख', 'ग', 'घ', 'ङ', 'च', 'छ', 'ज', 'झ', 'ञ', 'ट', 'ठ', 'ड',\n",
       "       'ढ', 'ण', 'त', 'थ', 'द', 'ध', 'न', 'प', 'फ', 'ब', 'भ', 'म', 'य',\n",
       "       'र', 'ल', 'व', 'श', 'ष', 'स', 'ह', 'क्ष', 'त्र', 'ज्ञ', '०', '१',\n",
       "       '२', '३', '४', '५', '६', '७', '८', '९'], dtype=object)"
      ]
     },
     "execution_count": 51,
     "metadata": {},
     "output_type": "execute_result"
    }
   ],
   "source": [
    "dataCopy[\"Devanagari Label\"].unique()"
   ]
  },
  {
   "cell_type": "code",
   "execution_count": 52,
   "id": "573ecbe1",
   "metadata": {},
   "outputs": [
    {
     "name": "stdout",
     "output_type": "stream",
     "text": [
      "Devanagari Label  Label         Phonetics\n",
      "क                 ka            ka           2000\n",
      "स                 patalosaw     sa           2000\n",
      "ब                 ba            ba           2000\n",
      "भ                 bha           bha          2000\n",
      "म                 ma            ma           2000\n",
      "य                 ya            ya           2000\n",
      "र                 ra            ra           2000\n",
      "ल                 la            la           2000\n",
      "व                 va            va           2000\n",
      "श                 motosaw       śa           2000\n",
      "ष                 petchiryosaw  ṣa           2000\n",
      "ह                 ha            ha           2000\n",
      "क्ष               ksha          kṣa          2000\n",
      "०                 0             Śūn'ya       2000\n",
      "१                 1             ēka          2000\n",
      "२                 2             du'ī         2000\n",
      "३                 3             tīna         2000\n",
      "४                 4             cāra         2000\n",
      "५                 5             pām̐ca       2000\n",
      "६                 6             cha          2000\n",
      "७                 7             sāta         2000\n",
      "८                 8             āṭha         2000\n",
      "फ                 pha           pha          2000\n",
      "प                 pa            pa           2000\n",
      "न                 na            na           2000\n",
      "ध                 dhaa          dha          2000\n",
      "ख                 kha           kha          2000\n",
      "ग                 ga            ga           2000\n",
      "घ                 gha           gha          2000\n",
      "ङ                 kna           ṅa           2000\n",
      "च                 cha           ca           2000\n",
      "छ                 chha          cha          2000\n",
      "ज                 ja            ja           2000\n",
      "ज्ञ               gya           jña          2000\n",
      "झ                 jha           jha          2000\n",
      "ञ                 yna           ña           2000\n",
      "ट                 ta            ṭa           2000\n",
      "ठ                 tha           ṭha          2000\n",
      "ड                 da            ḍa           2000\n",
      "ढ                 dha           ḍha          2000\n",
      "ण                 ana           ṇa           2000\n",
      "त                 taa           ta           2000\n",
      "त्र               tra           tra          2000\n",
      "थ                 thaa          tha          2000\n",
      "द                 daa           da           2000\n",
      "९                 9             nau          2000\n",
      "Name: count, dtype: int64\n",
      "46\n"
     ]
    }
   ],
   "source": [
    "print(dataCopy[[\"Devanagari Label\", \"Label\", \"Phonetics\"]].value_counts())\n",
    "print(len(dataCopy[[\"Devanagari Label\", \"Label\", \"Phonetics\"]].value_counts()))"
   ]
  },
  {
   "cell_type": "markdown",
   "id": "fbe7cbe6",
   "metadata": {},
   "source": [
    "Finally, correct english labels, devanagari labels and phonetics are added to the main dataset. Similarly there are no NULL values.\n",
    "\n",
    "This is perfect! "
   ]
  },
  {
   "cell_type": "markdown",
   "id": "f7b5d05b",
   "metadata": {},
   "source": [
    "Now, while we are at it, let's differentiate this data in train and test set. We are using the most common split ratio which is 80% train and 20% test. We can see that every digit/alphabet has 2000 data. So, to make sure that every digit/alphabet is equally represented in both test and train set, we are going to make sure that 80/20 rule applies to each digit/alphabet. "
   ]
  },
  {
   "cell_type": "code",
   "execution_count": 53,
   "id": "ac18e296",
   "metadata": {},
   "outputs": [
    {
     "name": "stdout",
     "output_type": "stream",
     "text": [
      "Train set size: 73600\n",
      "Test set size: 18400\n",
      "Train label distribution:\n",
      "Label\n",
      "0               1600\n",
      "patalosaw       1600\n",
      "ka              1600\n",
      "kha             1600\n",
      "kna             1600\n",
      "ksha            1600\n",
      "la              1600\n",
      "ma              1600\n",
      "motosaw         1600\n",
      "na              1600\n",
      "pa              1600\n",
      "petchiryosaw    1600\n",
      "1               1600\n",
      "pha             1600\n",
      "ra              1600\n",
      "ta              1600\n",
      "taa             1600\n",
      "tha             1600\n",
      "thaa            1600\n",
      "tra             1600\n",
      "va              1600\n",
      "ya              1600\n",
      "jha             1600\n",
      "ja              1600\n",
      "ha              1600\n",
      "gya             1600\n",
      "2               1600\n",
      "3               1600\n",
      "4               1600\n",
      "5               1600\n",
      "6               1600\n",
      "7               1600\n",
      "8               1600\n",
      "9               1600\n",
      "ana             1600\n",
      "ba              1600\n",
      "bha             1600\n",
      "cha             1600\n",
      "chha            1600\n",
      "da              1600\n",
      "daa             1600\n",
      "dha             1600\n",
      "dhaa            1600\n",
      "ga              1600\n",
      "gha             1600\n",
      "yna             1600\n",
      "Name: count, dtype: int64\n",
      "Test label distribution:\n",
      "Label\n",
      "0               400\n",
      "patalosaw       400\n",
      "ka              400\n",
      "kha             400\n",
      "kna             400\n",
      "ksha            400\n",
      "la              400\n",
      "ma              400\n",
      "motosaw         400\n",
      "na              400\n",
      "pa              400\n",
      "petchiryosaw    400\n",
      "1               400\n",
      "pha             400\n",
      "ra              400\n",
      "ta              400\n",
      "taa             400\n",
      "tha             400\n",
      "thaa            400\n",
      "tra             400\n",
      "va              400\n",
      "ya              400\n",
      "jha             400\n",
      "ja              400\n",
      "ha              400\n",
      "gya             400\n",
      "2               400\n",
      "3               400\n",
      "4               400\n",
      "5               400\n",
      "6               400\n",
      "7               400\n",
      "8               400\n",
      "9               400\n",
      "ana             400\n",
      "ba              400\n",
      "bha             400\n",
      "cha             400\n",
      "chha            400\n",
      "da              400\n",
      "daa             400\n",
      "dha             400\n",
      "dhaa            400\n",
      "ga              400\n",
      "gha             400\n",
      "yna             400\n",
      "Name: count, dtype: int64\n"
     ]
    }
   ],
   "source": [
    "trainList = []\n",
    "testList = []\n",
    "\n",
    "for label, group in dataCopy.groupby('Label'):\n",
    "    # Shuffle the group to randomize\n",
    "    group = group.sample(frac=1, random_state=42).reset_index(drop=True)\n",
    "    \n",
    "    # 80% for train (1600), 20% for test (400)\n",
    "    trainSize = int(0.8 * len(group))\n",
    "    trainGroup = group[:trainSize]\n",
    "    testGroup = group[trainSize:]\n",
    "\n",
    "    trainList.append(trainGroup)\n",
    "    testList.append(testGroup)\n",
    "\n",
    "# Combine into train and test DataFrames\n",
    "trainData = pd.concat(trainList, ignore_index=True)\n",
    "testData = pd.concat(testList, ignore_index=True)\n",
    "\n",
    "# Verify the split\n",
    "print(f\"Train set size: {len(trainData)}\")\n",
    "print(f\"Test set size: {len(testData)}\")\n",
    "print(\"Train label distribution:\")\n",
    "print(trainData['Label'].value_counts())\n",
    "print(\"Test label distribution:\")\n",
    "print(testData['Label'].value_counts())"
   ]
  },
  {
   "cell_type": "markdown",
   "id": "cb9a9066",
   "metadata": {},
   "source": [
    "Finally, the real work with data is done. "
   ]
  },
  {
   "cell_type": "markdown",
   "id": "d380c96d",
   "metadata": {},
   "source": [
    "Preprocessed data in available freely on Kaggle.\n",
    "Kaggle: https://www.kaggle.com/datasets/prabeshsagarbaral/mnistdevanagari "
   ]
  }
 ],
 "metadata": {
  "kernelspec": {
   "display_name": "base",
   "language": "python",
   "name": "python3"
  },
  "language_info": {
   "codemirror_mode": {
    "name": "ipython",
    "version": 3
   },
   "file_extension": ".py",
   "mimetype": "text/x-python",
   "name": "python",
   "nbconvert_exporter": "python",
   "pygments_lexer": "ipython3",
   "version": "3.12.2"
  }
 },
 "nbformat": 4,
 "nbformat_minor": 5
}
